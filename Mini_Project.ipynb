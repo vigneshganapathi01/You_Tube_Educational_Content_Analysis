{
  "cells": [
    {
      "cell_type": "code",
      "execution_count": 4,
      "metadata": {
        "id": "2J7vTT856qG5"
      },
      "outputs": [],
      "source": [
        "import re\n",
        "import pandas as pd\n",
        "import numpy as np\n",
        "from string import punctuation\n",
        "from nltk.tokenize import word_tokenize\n",
        "from nltk.corpus import stopwords\n",
        "from nltk.stem import WordNetLemmatizer\n",
        "from nltk.sentiment import SentimentIntensityAnalyzer\n",
        "from sklearn.feature_extraction.text import TfidfVectorizer\n",
        "from sklearn.naive_bayes import MultinomialNB\n",
        "from sklearn.model_selection import train_test_split\n",
        "from sklearn.metrics import accuracy_score, confusion_matrix, classification_report\n",
        "import seaborn as sns\n",
        "import matplotlib.pyplot as plt"
      ]
    },
    {
      "cell_type": "code",
      "execution_count": null,
      "metadata": {},
      "outputs": [],
      "source": []
    },
    {
      "cell_type": "markdown",
      "metadata": {
        "id": "nKgQbM1BKDZI"
      },
      "source": []
    },
    {
      "cell_type": "code",
      "execution_count": 5,
      "metadata": {
        "colab": {
          "base_uri": "https://localhost:8080/"
        },
        "id": "S2hJY8qq7hkE",
        "outputId": "2052c0de-858a-4912-f8f6-4dd2272f3f59"
      },
      "outputs": [
        {
          "name": "stderr",
          "output_type": "stream",
          "text": [
            "[nltk_data] Downloading package punkt to\n",
            "[nltk_data]     C:\\Users\\gchan\\AppData\\Roaming\\nltk_data...\n",
            "[nltk_data]   Unzipping tokenizers\\punkt.zip.\n",
            "[nltk_data] Downloading package stopwords to\n",
            "[nltk_data]     C:\\Users\\gchan\\AppData\\Roaming\\nltk_data...\n",
            "[nltk_data]   Unzipping corpora\\stopwords.zip.\n",
            "[nltk_data] Downloading package vader_lexicon to\n",
            "[nltk_data]     C:\\Users\\gchan\\AppData\\Roaming\\nltk_data...\n",
            "[nltk_data] Downloading package wordnet to\n",
            "[nltk_data]     C:\\Users\\gchan\\AppData\\Roaming\\nltk_data...\n",
            "[nltk_data] Downloading package punkt_tab to\n",
            "[nltk_data]     C:\\Users\\gchan\\AppData\\Roaming\\nltk_data...\n",
            "[nltk_data]   Unzipping tokenizers\\punkt_tab.zip.\n"
          ]
        },
        {
          "data": {
            "text/plain": [
              "True"
            ]
          },
          "execution_count": 5,
          "metadata": {},
          "output_type": "execute_result"
        }
      ],
      "source": [
        "import nltk\n",
        "nltk.download('punkt')\n",
        "nltk.download('stopwords')\n",
        "nltk.download('vader_lexicon')\n",
        "nltk.download('wordnet')\n",
        "nltk.download('punkt_tab') # Download the missing 'punkt_tab' resource"
      ]
    },
    {
      "cell_type": "code",
      "execution_count": 6,
      "metadata": {
        "colab": {
          "base_uri": "https://localhost:8080/",
          "height": 521
        },
        "id": "3EEWkF67zjFP",
        "outputId": "2548bf47-a94d-4874-af85-f7f2f80c556f"
      },
      "outputs": [
        {
          "data": {
            "text/html": [
              "<div>\n",
              "<style scoped>\n",
              "    .dataframe tbody tr th:only-of-type {\n",
              "        vertical-align: middle;\n",
              "    }\n",
              "\n",
              "    .dataframe tbody tr th {\n",
              "        vertical-align: top;\n",
              "    }\n",
              "\n",
              "    .dataframe thead th {\n",
              "        text-align: right;\n",
              "    }\n",
              "</style>\n",
              "<table border=\"1\" class=\"dataframe\">\n",
              "  <thead>\n",
              "    <tr style=\"text-align: right;\">\n",
              "      <th></th>\n",
              "      <th>Video ID</th>\n",
              "      <th>Title</th>\n",
              "      <th>Views</th>\n",
              "      <th>Likes</th>\n",
              "      <th>Comments</th>\n",
              "      <th>Channel Title</th>\n",
              "      <th>Channel Subscribers</th>\n",
              "      <th>Video Category</th>\n",
              "      <th>Duration</th>\n",
              "      <th>Publish Date</th>\n",
              "      <th>Comment Author</th>\n",
              "      <th>Comment Text</th>\n",
              "      <th>Video Link</th>\n",
              "    </tr>\n",
              "  </thead>\n",
              "  <tbody>\n",
              "    <tr>\n",
              "      <th>0</th>\n",
              "      <td>RBSUwFGa6Fk</td>\n",
              "      <td>What is Data Science?</td>\n",
              "      <td>629551</td>\n",
              "      <td>14040</td>\n",
              "      <td>265</td>\n",
              "      <td>IBM Technology</td>\n",
              "      <td>1040000</td>\n",
              "      <td>Education</td>\n",
              "      <td>0:07:51</td>\n",
              "      <td>2022-06-13T12:00:14.000Z</td>\n",
              "      <td>@AbdulhadiKassas</td>\n",
              "      <td>👍🏻</td>\n",
              "      <td>https://www.youtube.com/watch?v=RBSUwFGa6Fk</td>\n",
              "    </tr>\n",
              "    <tr>\n",
              "      <th>1</th>\n",
              "      <td>RBSUwFGa6Fk</td>\n",
              "      <td>What is Data Science?</td>\n",
              "      <td>629551</td>\n",
              "      <td>14040</td>\n",
              "      <td>265</td>\n",
              "      <td>IBM Technology</td>\n",
              "      <td>1040000</td>\n",
              "      <td>Education</td>\n",
              "      <td>0:07:51</td>\n",
              "      <td>2022-06-13T12:00:14.000Z</td>\n",
              "      <td>@Just_iain</td>\n",
              "      <td>First of all. Thanks for making it really clea...</td>\n",
              "      <td>https://www.youtube.com/watch?v=RBSUwFGa6Fk</td>\n",
              "    </tr>\n",
              "    <tr>\n",
              "      <th>2</th>\n",
              "      <td>RBSUwFGa6Fk</td>\n",
              "      <td>What is Data Science?</td>\n",
              "      <td>629551</td>\n",
              "      <td>14040</td>\n",
              "      <td>265</td>\n",
              "      <td>IBM Technology</td>\n",
              "      <td>1040000</td>\n",
              "      <td>Education</td>\n",
              "      <td>0:07:51</td>\n",
              "      <td>2022-06-13T12:00:14.000Z</td>\n",
              "      <td>@AshenVictor-r5u</td>\n",
              "      <td>👍</td>\n",
              "      <td>https://www.youtube.com/watch?v=RBSUwFGa6Fk</td>\n",
              "    </tr>\n",
              "    <tr>\n",
              "      <th>3</th>\n",
              "      <td>RBSUwFGa6Fk</td>\n",
              "      <td>What is Data Science?</td>\n",
              "      <td>629551</td>\n",
              "      <td>14040</td>\n",
              "      <td>265</td>\n",
              "      <td>IBM Technology</td>\n",
              "      <td>1040000</td>\n",
              "      <td>Education</td>\n",
              "      <td>0:07:51</td>\n",
              "      <td>2022-06-13T12:00:14.000Z</td>\n",
              "      <td>@nithinganesh921</td>\n",
              "      <td>This is exactly what I was looking for !!!!\\r\\...</td>\n",
              "      <td>https://www.youtube.com/watch?v=RBSUwFGa6Fk</td>\n",
              "    </tr>\n",
              "    <tr>\n",
              "      <th>4</th>\n",
              "      <td>RBSUwFGa6Fk</td>\n",
              "      <td>What is Data Science?</td>\n",
              "      <td>629551</td>\n",
              "      <td>14040</td>\n",
              "      <td>265</td>\n",
              "      <td>IBM Technology</td>\n",
              "      <td>1040000</td>\n",
              "      <td>Education</td>\n",
              "      <td>0:07:51</td>\n",
              "      <td>2022-06-13T12:00:14.000Z</td>\n",
              "      <td>@KarnaNatarajan</td>\n",
              "      <td>This provided a very clear explanation of the ...</td>\n",
              "      <td>https://www.youtube.com/watch?v=RBSUwFGa6Fk</td>\n",
              "    </tr>\n",
              "  </tbody>\n",
              "</table>\n",
              "</div>"
            ],
            "text/plain": [
              "      Video ID                  Title   Views  Likes  Comments  \\\n",
              "0  RBSUwFGa6Fk  What is Data Science?  629551  14040       265   \n",
              "1  RBSUwFGa6Fk  What is Data Science?  629551  14040       265   \n",
              "2  RBSUwFGa6Fk  What is Data Science?  629551  14040       265   \n",
              "3  RBSUwFGa6Fk  What is Data Science?  629551  14040       265   \n",
              "4  RBSUwFGa6Fk  What is Data Science?  629551  14040       265   \n",
              "\n",
              "    Channel Title  Channel Subscribers Video Category Duration  \\\n",
              "0  IBM Technology              1040000      Education  0:07:51   \n",
              "1  IBM Technology              1040000      Education  0:07:51   \n",
              "2  IBM Technology              1040000      Education  0:07:51   \n",
              "3  IBM Technology              1040000      Education  0:07:51   \n",
              "4  IBM Technology              1040000      Education  0:07:51   \n",
              "\n",
              "               Publish Date    Comment Author  \\\n",
              "0  2022-06-13T12:00:14.000Z  @AbdulhadiKassas   \n",
              "1  2022-06-13T12:00:14.000Z        @Just_iain   \n",
              "2  2022-06-13T12:00:14.000Z  @AshenVictor-r5u   \n",
              "3  2022-06-13T12:00:14.000Z  @nithinganesh921   \n",
              "4  2022-06-13T12:00:14.000Z   @KarnaNatarajan   \n",
              "\n",
              "                                        Comment Text  \\\n",
              "0                                                 👍🏻   \n",
              "1  First of all. Thanks for making it really clea...   \n",
              "2                                                  👍   \n",
              "3  This is exactly what I was looking for !!!!\\r\\...   \n",
              "4  This provided a very clear explanation of the ...   \n",
              "\n",
              "                                    Video Link  \n",
              "0  https://www.youtube.com/watch?v=RBSUwFGa6Fk  \n",
              "1  https://www.youtube.com/watch?v=RBSUwFGa6Fk  \n",
              "2  https://www.youtube.com/watch?v=RBSUwFGa6Fk  \n",
              "3  https://www.youtube.com/watch?v=RBSUwFGa6Fk  \n",
              "4  https://www.youtube.com/watch?v=RBSUwFGa6Fk  "
            ]
          },
          "execution_count": 6,
          "metadata": {},
          "output_type": "execute_result"
        }
      ],
      "source": [
        "data = pd.read_csv('E:/ML_Project/You_Tube Educational Content/final youtube data.csv')\n",
        "data.columns\n",
        "data.head()"
      ]
    },
    {
      "cell_type": "code",
      "execution_count": 7,
      "metadata": {
        "colab": {
          "base_uri": "https://localhost:8080/",
          "height": 597
        },
        "id": "9rgBWzhy2e-e",
        "outputId": "d1f0d883-b3eb-492f-9fcb-30c471947aa4"
      },
      "outputs": [
        {
          "data": {
            "text/html": [
              "<div>\n",
              "<style scoped>\n",
              "    .dataframe tbody tr th:only-of-type {\n",
              "        vertical-align: middle;\n",
              "    }\n",
              "\n",
              "    .dataframe tbody tr th {\n",
              "        vertical-align: top;\n",
              "    }\n",
              "\n",
              "    .dataframe thead th {\n",
              "        text-align: right;\n",
              "    }\n",
              "</style>\n",
              "<table border=\"1\" class=\"dataframe\">\n",
              "  <thead>\n",
              "    <tr style=\"text-align: right;\">\n",
              "      <th></th>\n",
              "      <th>Title</th>\n",
              "      <th>Comment Text</th>\n",
              "      <th>Video Link</th>\n",
              "    </tr>\n",
              "  </thead>\n",
              "  <tbody>\n",
              "    <tr>\n",
              "      <th>0</th>\n",
              "      <td>What is Data Science?</td>\n",
              "      <td>👍🏻</td>\n",
              "      <td>https://www.youtube.com/watch?v=RBSUwFGa6Fk</td>\n",
              "    </tr>\n",
              "    <tr>\n",
              "      <th>1</th>\n",
              "      <td>What is Data Science?</td>\n",
              "      <td>First of all. Thanks for making it really clea...</td>\n",
              "      <td>https://www.youtube.com/watch?v=RBSUwFGa6Fk</td>\n",
              "    </tr>\n",
              "    <tr>\n",
              "      <th>2</th>\n",
              "      <td>What is Data Science?</td>\n",
              "      <td>👍</td>\n",
              "      <td>https://www.youtube.com/watch?v=RBSUwFGa6Fk</td>\n",
              "    </tr>\n",
              "    <tr>\n",
              "      <th>3</th>\n",
              "      <td>What is Data Science?</td>\n",
              "      <td>This is exactly what I was looking for !!!!\\r\\...</td>\n",
              "      <td>https://www.youtube.com/watch?v=RBSUwFGa6Fk</td>\n",
              "    </tr>\n",
              "    <tr>\n",
              "      <th>4</th>\n",
              "      <td>What is Data Science?</td>\n",
              "      <td>This provided a very clear explanation of the ...</td>\n",
              "      <td>https://www.youtube.com/watch?v=RBSUwFGa6Fk</td>\n",
              "    </tr>\n",
              "    <tr>\n",
              "      <th>...</th>\n",
              "      <td>...</td>\n",
              "      <td>...</td>\n",
              "      <td>...</td>\n",
              "    </tr>\n",
              "    <tr>\n",
              "      <th>2772</th>\n",
              "      <td>5 Area To Focus For Data Science Interviews🔥🔥 ...</td>\n",
              "      <td>Thanks</td>\n",
              "      <td>https://www.youtube.com/watch?v=MDDakzhv3_8</td>\n",
              "    </tr>\n",
              "    <tr>\n",
              "      <th>2773</th>\n",
              "      <td>5 Area To Focus For Data Science Interviews🔥🔥 ...</td>\n",
              "      <td>absolutly these are the questions they asked i...</td>\n",
              "      <td>https://www.youtube.com/watch?v=MDDakzhv3_8</td>\n",
              "    </tr>\n",
              "    <tr>\n",
              "      <th>2774</th>\n",
              "      <td>5 Area To Focus For Data Science Interviews🔥🔥 ...</td>\n",
              "      <td>Excited for some more of this 👍👍👍</td>\n",
              "      <td>https://www.youtube.com/watch?v=MDDakzhv3_8</td>\n",
              "    </tr>\n",
              "    <tr>\n",
              "      <th>2775</th>\n",
              "      <td>5 Area To Focus For Data Science Interviews🔥🔥 ...</td>\n",
              "      <td>No Python or R?</td>\n",
              "      <td>https://www.youtube.com/watch?v=MDDakzhv3_8</td>\n",
              "    </tr>\n",
              "    <tr>\n",
              "      <th>2776</th>\n",
              "      <td>5 Area To Focus For Data Science Interviews🔥🔥 ...</td>\n",
              "      <td>Helpful\\r\\n1. Real time projects q\\r\\n2. Stati...</td>\n",
              "      <td>https://www.youtube.com/watch?v=MDDakzhv3_8</td>\n",
              "    </tr>\n",
              "  </tbody>\n",
              "</table>\n",
              "<p>2777 rows × 3 columns</p>\n",
              "</div>"
            ],
            "text/plain": [
              "                                                  Title  \\\n",
              "0                                 What is Data Science?   \n",
              "1                                 What is Data Science?   \n",
              "2                                 What is Data Science?   \n",
              "3                                 What is Data Science?   \n",
              "4                                 What is Data Science?   \n",
              "...                                                 ...   \n",
              "2772  5 Area To Focus For Data Science Interviews🔥🔥 ...   \n",
              "2773  5 Area To Focus For Data Science Interviews🔥🔥 ...   \n",
              "2774  5 Area To Focus For Data Science Interviews🔥🔥 ...   \n",
              "2775  5 Area To Focus For Data Science Interviews🔥🔥 ...   \n",
              "2776  5 Area To Focus For Data Science Interviews🔥🔥 ...   \n",
              "\n",
              "                                           Comment Text  \\\n",
              "0                                                    👍🏻   \n",
              "1     First of all. Thanks for making it really clea...   \n",
              "2                                                     👍   \n",
              "3     This is exactly what I was looking for !!!!\\r\\...   \n",
              "4     This provided a very clear explanation of the ...   \n",
              "...                                                 ...   \n",
              "2772                                             Thanks   \n",
              "2773  absolutly these are the questions they asked i...   \n",
              "2774                  Excited for some more of this 👍👍👍   \n",
              "2775                                    No Python or R?   \n",
              "2776  Helpful\\r\\n1. Real time projects q\\r\\n2. Stati...   \n",
              "\n",
              "                                       Video Link  \n",
              "0     https://www.youtube.com/watch?v=RBSUwFGa6Fk  \n",
              "1     https://www.youtube.com/watch?v=RBSUwFGa6Fk  \n",
              "2     https://www.youtube.com/watch?v=RBSUwFGa6Fk  \n",
              "3     https://www.youtube.com/watch?v=RBSUwFGa6Fk  \n",
              "4     https://www.youtube.com/watch?v=RBSUwFGa6Fk  \n",
              "...                                           ...  \n",
              "2772  https://www.youtube.com/watch?v=MDDakzhv3_8  \n",
              "2773  https://www.youtube.com/watch?v=MDDakzhv3_8  \n",
              "2774  https://www.youtube.com/watch?v=MDDakzhv3_8  \n",
              "2775  https://www.youtube.com/watch?v=MDDakzhv3_8  \n",
              "2776  https://www.youtube.com/watch?v=MDDakzhv3_8  \n",
              "\n",
              "[2777 rows x 3 columns]"
            ]
          },
          "execution_count": 7,
          "metadata": {},
          "output_type": "execute_result"
        }
      ],
      "source": [
        "data1 = data.drop(['Video ID', 'Likes', 'Channel Title','Views', 'Comments',\n",
        "       'Channel Subscribers', 'Video Category', 'Duration', 'Publish Date',\n",
        "       'Comment Author'],axis=1)\n",
        "data1"
      ]
    },
    {
      "cell_type": "code",
      "execution_count": 8,
      "metadata": {
        "id": "DgD4VqOg7oAT"
      },
      "outputs": [],
      "source": [
        "# Initialize global variables\n",
        "stop_words = set(stopwords.words('english'))\n",
        "lemmatizer = WordNetLemmatizer()"
      ]
    },
    {
      "cell_type": "code",
      "execution_count": 9,
      "metadata": {
        "id": "HBid5-TA7usM"
      },
      "outputs": [],
      "source": [
        "\n",
        "def enhanced_text_processing(text):\n",
        "    \"\"\"Enhanced text processing with lemmatization\"\"\"\n",
        "    if isinstance(text, str):\n",
        "        # Convert text into lowercase\n",
        "        text = text.lower()\n",
        "        # Remove URLs\n",
        "        text = re.sub(r'http\\S+|www\\S+|https\\S+', '', text, flags=re.MULTILINE)\n",
        "        # Remove new line characters\n",
        "        text = re.sub(r'\\n', ' ', text)\n",
        "        # Remove punctuations\n",
        "        text = re.sub('[%s]' % re.escape(punctuation), \" \", text)\n",
        "        # Remove numbers and special characters\n",
        "        text = re.sub(r'[^a-zA-Z\\s]', '', text)\n",
        "        # Remove multiple spaces\n",
        "        text = re.sub(r'\\s+', ' ', text, flags=re.I)\n",
        "\n",
        "        # Tokenization and lemmatization\n",
        "        tokens = word_tokenize(text)\n",
        "        tokens = [lemmatizer.lemmatize(token) for token in tokens if token not in stop_words]\n",
        "\n",
        "        return ' '.join(tokens)\n",
        "    return ''"
      ]
    },
    {
      "cell_type": "code",
      "execution_count": 10,
      "metadata": {
        "id": "l-xyAVFj_DQ5"
      },
      "outputs": [],
      "source": [
        "def get_initial_labels(text):\n",
        "    \"\"\"Get initial sentiment labels using VADER\"\"\"\n",
        "    # Convert to string if not already\n",
        "    if not isinstance(text, str):\n",
        "        text = str(text)  # Convert to string before encoding\n",
        "\n",
        "    sia = SentimentIntensityAnalyzer()\n",
        "    scores = sia.polarity_scores(text)\n",
        "\n",
        "    if scores['compound'] >= 0.05:\n",
        "        return 'Helpful'\n",
        "    elif scores['compound'] <= -0.05:\n",
        "        return 'Average'\n",
        "    else:\n",
        "        return 'Confusing'"
      ]
    },
    {
      "cell_type": "code",
      "execution_count": 11,
      "metadata": {
        "id": "s7KbmXO076ln"
      },
      "outputs": [],
      "source": [
        "# Apply enhanced text processing to comments\n",
        "data['cleaned_comments'] = data['Comment Text'].apply(enhanced_text_processing)\n",
        "\n",
        "# Get initial sentiment labels using VADER\n",
        "data['Initial_Sentiment'] = data['Comment Text'].apply(get_initial_labels)\n"
      ]
    },
    {
      "cell_type": "code",
      "execution_count": null,
      "metadata": {
        "id": "0D0IOejhYOaI"
      },
      "outputs": [],
      "source": []
    },
    {
      "cell_type": "code",
      "execution_count": 12,
      "metadata": {
        "colab": {
          "base_uri": "https://localhost:8080/",
          "height": 458
        },
        "id": "GdHoPs0x824q",
        "outputId": "4789dc6b-c1d8-4c82-da2d-0626b6298ab1"
      },
      "outputs": [
        {
          "data": {
            "text/plain": [
              "0                                                      👍🏻\n",
              "1       First of all. Thanks for making it really clea...\n",
              "2                                                       👍\n",
              "3       This is exactly what I was looking for !!!!\\r\\...\n",
              "4       This provided a very clear explanation of the ...\n",
              "                              ...                        \n",
              "2772                                               Thanks\n",
              "2773    absolutly these are the questions they asked i...\n",
              "2774                    Excited for some more of this 👍👍👍\n",
              "2775                                      No Python or R?\n",
              "2776    Helpful\\r\\n1. Real time projects q\\r\\n2. Stati...\n",
              "Name: Comment Text, Length: 2777, dtype: object"
            ]
          },
          "execution_count": 12,
          "metadata": {},
          "output_type": "execute_result"
        }
      ],
      "source": [
        "data['Comment Text']"
      ]
    },
    {
      "cell_type": "code",
      "execution_count": 13,
      "metadata": {
        "colab": {
          "base_uri": "https://localhost:8080/",
          "height": 458
        },
        "id": "FkVP_Cjq8pdV",
        "outputId": "cdceb1f5-7873-4a78-aceb-697a3b416a96"
      },
      "outputs": [
        {
          "data": {
            "text/plain": [
              "0                                                        \n",
              "1       first thanks making really clear video thats a...\n",
              "2                                                        \n",
              "3       exactly looking clearly explained descriptive ...\n",
              "4                 provided clear explanation topic thanks\n",
              "                              ...                        \n",
              "2772                                               thanks\n",
              "2773          absolutly question asked previous interview\n",
              "2774                                              excited\n",
              "2775                                             python r\n",
              "2776    helpful real time project q static probability...\n",
              "Name: cleaned_comments, Length: 2777, dtype: object"
            ]
          },
          "execution_count": 13,
          "metadata": {},
          "output_type": "execute_result"
        }
      ],
      "source": [
        "data['cleaned_comments']"
      ]
    },
    {
      "cell_type": "code",
      "execution_count": 14,
      "metadata": {
        "colab": {
          "base_uri": "https://localhost:8080/",
          "height": 458
        },
        "id": "aGYTFvUx8khE",
        "outputId": "72a0ca97-1c6e-4375-f280-ce60cf723a2c"
      },
      "outputs": [
        {
          "data": {
            "text/plain": [
              "0       Confusing\n",
              "1         Helpful\n",
              "2       Confusing\n",
              "3         Helpful\n",
              "4         Helpful\n",
              "          ...    \n",
              "2772      Helpful\n",
              "2773    Confusing\n",
              "2774      Helpful\n",
              "2775      Average\n",
              "2776    Confusing\n",
              "Name: Initial_Sentiment, Length: 2777, dtype: object"
            ]
          },
          "execution_count": 14,
          "metadata": {},
          "output_type": "execute_result"
        }
      ],
      "source": [
        "data['Initial_Sentiment']"
      ]
    },
    {
      "cell_type": "code",
      "execution_count": 15,
      "metadata": {
        "colab": {
          "base_uri": "https://localhost:8080/",
          "height": 209
        },
        "id": "VcLgbvhi8e-E",
        "outputId": "5e175aa4-1adf-4765-f2c6-e0da0816c012"
      },
      "outputs": [
        {
          "data": {
            "text/plain": [
              "Initial_Sentiment\n",
              "Helpful      1421\n",
              "Confusing    1120\n",
              "Average       236\n",
              "Name: count, dtype: int64"
            ]
          },
          "execution_count": 15,
          "metadata": {},
          "output_type": "execute_result"
        }
      ],
      "source": [
        "data['Initial_Sentiment'].value_counts()"
      ]
    },
    {
      "cell_type": "code",
      "execution_count": 16,
      "metadata": {
        "id": "TyH8UjpK71LJ"
      },
      "outputs": [],
      "source": [
        "# Create TF-IDF features\n",
        "tfidf = TfidfVectorizer(max_features=5000, ngram_range=(1, 2))\n",
        "X = tfidf.fit_transform(data['cleaned_comments'])"
      ]
    },
    {
      "cell_type": "code",
      "execution_count": 17,
      "metadata": {
        "id": "-kTVG368kMot"
      },
      "outputs": [],
      "source": [
        "# Use initial sentiment as labels\n",
        "y = data['Initial_Sentiment']\n",
        "\n",
        "# Split the data\n",
        "X_train, X_test, y_train, y_test = train_test_split(X, y, test_size=0.2, random_state=42)"
      ]
    },
    {
      "cell_type": "code",
      "execution_count": 18,
      "metadata": {
        "id": "Mu5tACaO9DyF"
      },
      "outputs": [],
      "source": [
        "# Train Naive Bayes classifier\n",
        "nb_classifier = MultinomialNB()\n",
        "nb_classifier.fit(X_train, y_train)\n",
        "\n",
        "# Make predictions\n",
        "data['Predicted_Sentiment'] = nb_classifier.predict(X)"
      ]
    },
    {
      "cell_type": "code",
      "execution_count": 19,
      "metadata": {
        "id": "vTMTKGhf9Gx-"
      },
      "outputs": [],
      "source": [
        "# Calculate accuracy metrics\n",
        "accuracy = accuracy_score(y, data['Predicted_Sentiment'])\n",
        "conf_matrix = confusion_matrix(y, data['Predicted_Sentiment'])\n",
        "class_report = classification_report(y, data['Predicted_Sentiment'])"
      ]
    },
    {
      "cell_type": "code",
      "execution_count": 20,
      "metadata": {
        "colab": {
          "base_uri": "https://localhost:8080/"
        },
        "id": "Q72BPxDT9ImC",
        "outputId": "48877be7-b56a-4b48-8f88-60555867704b"
      },
      "outputs": [
        {
          "name": "stdout",
          "output_type": "stream",
          "text": [
            "Accuracy: 0.81\n"
          ]
        }
      ],
      "source": [
        "print(f\"Accuracy: {accuracy:.2f}\")\n"
      ]
    },
    {
      "cell_type": "code",
      "execution_count": 21,
      "metadata": {
        "colab": {
          "base_uri": "https://localhost:8080/",
          "height": 926
        },
        "id": "Li6fJXq99L3Q",
        "outputId": "62ec5d53-ffe0-4bf6-eb6e-e82673d6b583"
      },
      "outputs": [
        {
          "data": {
            "image/png": "[encoded data removed]",
            "text/plain": [
              "<Figure size 1000x800 with 2 Axes>"
            ]
          },
          "metadata": {},
          "output_type": "display_data"
        },
        {
          "name": "stdout",
          "output_type": "stream",
          "text": [
            "\n",
            "Classification Report:\n",
            "              precision    recall  f1-score   support\n",
            "\n",
            "     Average       1.00      0.15      0.26       236\n",
            "   Confusing       0.90      0.72      0.80      1120\n",
            "     Helpful       0.76      0.98      0.86      1421\n",
            "\n",
            "    accuracy                           0.81      2777\n",
            "   macro avg       0.88      0.62      0.64      2777\n",
            "weighted avg       0.83      0.81      0.78      2777\n",
            "\n"
          ]
        }
      ],
      "source": [
        "plt.figure(figsize=(10, 8))\n",
        "sns.heatmap(conf_matrix,\n",
        "            annot=True,\n",
        "            fmt='d',\n",
        "            cmap='Blues',\n",
        "            xticklabels=['Helpful', 'Average', 'Confusing'],\n",
        "            yticklabels=['Helpful', 'Average', 'Confusing'])\n",
        "plt.title('Naive Bayes Classifier Confusion Matrix')\n",
        "plt.ylabel('True Label')\n",
        "plt.xlabel('Predicted Label')\n",
        "plt.show()\n",
        "\n",
        "print(\"\\nClassification Report:\")\n",
        "print(class_report)"
      ]
    },
    {
      "cell_type": "code",
      "execution_count": 22,
      "metadata": {
        "id": "VpjcX1Ah9nem"
      },
      "outputs": [],
      "source": [
        "\n",
        "# Calculate video statistics using the new predictions\n",
        "video_stats = pd.DataFrame({\n",
        "    'Total_Comments': data.groupby(['Title', 'Video Link']).size(),\n",
        "    'Helpful_Comments': data[data['Predicted_Sentiment'] == 'Helpful'].groupby(['Title', 'Video Link']).size()\n",
        "}).reset_index()\n",
        "\n",
        "# Calculate percentage of helpful comments\n",
        "video_stats['Helpful_Percentage'] = (video_stats['Helpful_Comments'] / video_stats['Total_Comments'] * 100).round(2)\n",
        "\n",
        "# Sort by percentage of helpful comments (descending)\n",
        "video_stats = video_stats.sort_values('Helpful_Percentage', ascending=False)"
      ]
    },
    {
      "cell_type": "code",
      "execution_count": 23,
      "metadata": {
        "id": "jd3syu-T9qZt"
      },
      "outputs": [],
      "source": [
        "\n",
        "# Get helpful comments with confidence scores\n",
        "helpful_comments = data[data['Predicted_Sentiment'] == 'Helpful']\n",
        "helpful_proba = nb_classifier.predict_proba(X)\n",
        "data['Confidence_Score'] = np.max(helpful_proba, axis=1)\n"
      ]
    },
    {
      "cell_type": "code",
      "execution_count": 24,
      "metadata": {
        "id": "BkjDFLHt_3_t"
      },
      "outputs": [],
      "source": [
        "# Get top comments based on classifier confidence\n",
        "video_comments_dict = {}\n",
        "for _, row in video_stats.iterrows():\n",
        "    title = row['Title']\n",
        "    link = row['Video Link']\n",
        "    # Get comments for this video and sort by confidence score\n",
        "    # Filter helpful_comments based on title and link, then sort\n",
        "    video_comments = data[\n",
        "        (data['Title'] == title) &\n",
        "        (data['Video Link'] == link) &\n",
        "        (data['Predicted_Sentiment'] == 'Helpful')  # Filter for helpful comments\n",
        "    ].sort_values('Confidence_Score', ascending=False)\n",
        "\n",
        "    # Take top 3 comments\n",
        "    top_3_comments = video_comments.head(3)['cleaned_comments'].tolist()\n",
        "\n",
        "    # Join comments with their ranking\n",
        "    formatted_comments = [f\"{i+1}. {comment}\" for i, comment in enumerate(top_3_comments)]\n",
        "    video_comments_dict[(title, link)] = ' | '.join(formatted_comments)\n",
        "\n",
        "# Add aggregated top 3 comments to video_stats\n",
        "video_stats['Comments_of_User'] = video_stats.apply(\n",
        "    lambda row: video_comments_dict.get((row['Title'], row['Video Link']), ''),\n",
        "    axis=1\n",
        ")"
      ]
    },
    {
      "cell_type": "code",
      "execution_count": 25,
      "metadata": {
        "colab": {
          "base_uri": "https://localhost:8080/"
        },
        "id": "0_XAlMo69un5",
        "outputId": "31c3a147-49f1-44bf-9dc7-a6fac3991e3c"
      },
      "outputs": [
        {
          "name": "stdout",
          "output_type": "stream",
          "text": [
            "\n",
            "Results Preview:\n",
            "===============\n",
            "                                                 Title  Helpful_Percentage  \\\n",
            "165  How I&#39;d Learn Data Analytics in 2024 (If I...               100.0   \n",
            "236  My *honest* advice to any aspiring Data Analys...               100.0   \n",
            "215  Is Data Analytics Really That Hard? Tips for R...               100.0   \n",
            "92   Data Science Full Course - 12 Hours | Data Sci...               100.0   \n",
            "219  Is The Google Data Analytics Certification Wor...               100.0   \n",
            "\n",
            "                                      Comments_of_User  \n",
            "165  1. great tip throughout video curious others m...  \n",
            "236  1. hey rohan thank much showing true picture t...  \n",
            "215  1. really love way video break data analytics ...  \n",
            "92   1. thanks edureka great course provide note co...  \n",
            "219  1. thank awesome review video yes great thing ...  \n"
          ]
        }
      ],
      "source": [
        "# Filter and save results\n",
        "filtered_video_stats = video_stats[video_stats['Helpful_Percentage'] > 5]\n",
        "filtered_video_stats.to_csv('Useful_YouTube_Content.csv', index=False)\n",
        "\n",
        "print(\"\\nResults Preview:\")\n",
        "print(\"===============\")\n",
        "print(filtered_video_stats[['Title', 'Helpful_Percentage', 'Comments_of_User']].head())\n"
      ]
    },
    {
      "cell_type": "code",
      "execution_count": 26,
      "metadata": {
        "id": "kuDNmY3AAX3l"
      },
      "outputs": [],
      "source": [
        "data['Sentiment_Scores'] = data['Comment Text'].apply(get_initial_labels)\n",
        "\n",
        "\n",
        "def extract_sentiment_scores(scores_dict):\n",
        "    # Assuming get_initial_labels returns a dictionary with keys 'neg', 'neu', 'pos'\n",
        "    if isinstance(scores_dict, dict):\n",
        "        return scores_dict.get('pos', 0), scores_dict.get('neg', 0), scores_dict.get('neu', 0)  # Provide default value if key not found\n",
        "    else:\n",
        "        return 0, 0, 0  # Return 0 for all scores if scores_dict is not a dictionary\n",
        "data[['Positive', 'Negative', 'Neutral']] = data['Sentiment_Scores'].apply(extract_sentiment_scores).apply(pd.Series)\n"
      ]
    },
    {
      "cell_type": "code",
      "execution_count": 27,
      "metadata": {
        "colab": {
          "base_uri": "https://localhost:8080/",
          "height": 545
        },
        "id": "CQ8eLq6J1B4N",
        "outputId": "bfca6cbb-980e-4930-89cc-88b744dcbd47"
      },
      "outputs": [
        {
          "data": {
            "image/png": "[encoded data removed]",
            "text/plain": [
              "<Figure size 1000x600 with 2 Axes>"
            ]
          },
          "metadata": {},
          "output_type": "display_data"
        }
      ],
      "source": [
        "engagement_data = data.groupby('Predicted_Sentiment')[['Positive', 'Negative', 'Neutral', 'Likes', 'Comments']].mean()\n",
        "\n",
        "plt.figure(figsize=(10, 6))\n",
        "sns.heatmap(engagement_data, annot=True, cmap='coolwarm', linewidths=0.5)\n",
        "plt.title('Heatmap of Emotion Detection and Engagement Metrics by Sentiment')\n",
        "plt.show()\n"
      ]
    },
    {
      "cell_type": "code",
      "execution_count": 28,
      "metadata": {
        "colab": {
          "base_uri": "https://localhost:8080/",
          "height": 671
        },
        "id": "9jLzDKaY2ZFD",
        "outputId": "808bfa2a-7f4f-48bf-d871-1f1d1110ad60"
      },
      "outputs": [
        {
          "name": "stderr",
          "output_type": "stream",
          "text": [
            "C:\\Users\\gchan\\AppData\\Local\\Temp\\ipykernel_7424\\825570236.py:3: FutureWarning: \n",
            "\n",
            "Passing `palette` without assigning `hue` is deprecated and will be removed in v0.14.0. Assign the `x` variable to `hue` and set `legend=False` for the same effect.\n",
            "\n",
            "  sns.barplot(x=sentiment_counts.index, y=sentiment_counts.values, palette='Set1')\n"
          ]
        },
        {
          "data": {
            "image/png": "[encoded data removed]",
            "text/plain": [
              "<Figure size 800x600 with 1 Axes>"
            ]
          },
          "metadata": {},
          "output_type": "display_data"
        }
      ],
      "source": [
        "plt.figure(figsize=(8, 6))\n",
        "sentiment_counts = data['Predicted_Sentiment'].value_counts()\n",
        "sns.barplot(x=sentiment_counts.index, y=sentiment_counts.values, palette='Set1')\n",
        "plt.title('Sentiment Distribution')\n",
        "plt.ylabel('Number of Comments')\n",
        "plt.xlabel('Sentiment Category')\n",
        "plt.show()"
      ]
    },
    {
      "cell_type": "code",
      "execution_count": 29,
      "metadata": {
        "colab": {
          "base_uri": "https://localhost:8080/",
          "height": 564
        },
        "id": "gwHXp_y9bQWN",
        "outputId": "4699ea8a-8165-4f64-9d81-1a04fbc0cc6c"
      },
      "outputs": [
        {
          "data": {
            "image/png": "[encoded data removed]",
            "text/plain": [
              "<Figure size 1000x600 with 1 Axes>"
            ]
          },
          "metadata": {},
          "output_type": "display_data"
        }
      ],
      "source": [
        "# Scatter plot visualization for Helpful, Average, Confusing score distributions\n",
        "plt.figure(figsize=(10, 6))\n",
        "sns.scatterplot(x=data['Positive'], y=data['Negative'], hue=data['Predicted_Sentiment'], palette='Set1')\n",
        "plt.title('Scatterplot of Positive vs Negative Scores by Sentiment')\n",
        "plt.xlabel('Positive Score')\n",
        "plt.ylabel('Negative Score')\n",
        "plt.legend(title='Sentiment')\n",
        "plt.show()"
      ]
    },
    {
      "cell_type": "code",
      "execution_count": null,
      "metadata": {
        "id": "SObPSCqlEEKZ"
      },
      "outputs": [],
      "source": []
    },
    {
      "cell_type": "code",
      "execution_count": null,
      "metadata": {
        "id": "WWjjNNRSYfGs"
      },
      "outputs": [],
      "source": []
    },
    {
      "cell_type": "code",
      "execution_count": null,
      "metadata": {
        "id": "5ZUZjRuxA_j7"
      },
      "outputs": [],
      "source": []
    }
  ],
  "metadata": {
    "colab": {
      "provenance": []
    },
    "kernelspec": {
      "display_name": "Python 3",
      "name": "python3"
    },
    "language_info": {
      "codemirror_mode": {
        "name": "ipython",
        "version": 3
      },
      "file_extension": ".py",
      "mimetype": "text/x-python",
      "name": "python",
      "nbconvert_exporter": "python",
      "pygments_lexer": "ipython3",
      "version": "3.12.3"
    }
  },
  "nbformat": 4,
  "nbformat_minor": 0
}
